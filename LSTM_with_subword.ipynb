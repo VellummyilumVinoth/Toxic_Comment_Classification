{
  "nbformat": 4,
  "nbformat_minor": 0,
  "metadata": {
    "colab": {
      "provenance": [],
      "gpuType": "T4",
      "authorship_tag": "ABX9TyMESjtiptWmLfId83IrG3JP",
      "include_colab_link": true
    },
    "kernelspec": {
      "name": "python3",
      "display_name": "Python 3"
    },
    "language_info": {
      "name": "python"
    },
    "accelerator": "GPU"
  },
  "cells": [
    {
      "cell_type": "markdown",
      "metadata": {
        "id": "view-in-github",
        "colab_type": "text"
      },
      "source": [
        "<a href=\"https://colab.research.google.com/github/VellummyilumVinoth/Toxic_Comment_Classification/blob/main/LSTM_with_subword.ipynb\" target=\"_parent\"><img src=\"https://colab.research.google.com/assets/colab-badge.svg\" alt=\"Open In Colab\"/></a>"
      ]
    },
    {
      "cell_type": "code",
      "source": [
        "from keras.preprocessing.text import Tokenizer\n",
        "from tensorflow.keras.preprocessing.sequence import pad_sequences\n",
        "from keras.layers import Dense, Input, LSTM, Embedding, Dropout\n",
        "from keras.layers import Bidirectional, GlobalMaxPool1D\n",
        "from keras.models import Model\n",
        "from keras.callbacks import EarlyStopping\n",
        "import pandas as pd"
      ],
      "metadata": {
        "id": "4FVXW2JrvoKs"
      },
      "execution_count": 1,
      "outputs": []
    },
    {
      "cell_type": "code",
      "source": [
        "from google.colab import drive\n",
        "drive.mount('/content/drive')"
      ],
      "metadata": {
        "colab": {
          "base_uri": "https://localhost:8080/"
        },
        "id": "QFrv4raMxBST",
        "outputId": "030e72ac-1b21-40d2-d0a2-da4da32adeff"
      },
      "execution_count": 2,
      "outputs": [
        {
          "output_type": "stream",
          "name": "stdout",
          "text": [
            "Mounted at /content/drive\n"
          ]
        }
      ]
    },
    {
      "cell_type": "code",
      "source": [
        "# Load and preprocess the data\n",
        "dataset = pd.read_csv('/content/drive/MyDrive/Dats/Kaggle/train.csv')\n",
        "\n",
        "from sklearn.model_selection import train_test_split\n",
        "\n",
        "dataset, test = train_test_split(dataset, test_size=0.2)\n",
        "\n",
        "sentiment = dataset['comment_text'].values"
      ],
      "metadata": {
        "id": "0YEBiWOEvspR"
      },
      "execution_count": 3,
      "outputs": []
    },
    {
      "cell_type": "code",
      "source": [
        "y_list = [\"toxic\",\"severe_toxic\", \"obscene\", \"threat\", \"insult\", \"identity_hate\"]\n",
        "y = dataset[y_list].values"
      ],
      "metadata": {
        "id": "WuJOZwI2vtb7"
      },
      "execution_count": 4,
      "outputs": []
    },
    {
      "cell_type": "code",
      "source": [
        "predict_data = test['comment_text'].values"
      ],
      "metadata": {
        "id": "-Oa6ro1qvwR4"
      },
      "execution_count": 5,
      "outputs": []
    },
    {
      "cell_type": "code",
      "source": [
        "# Tokenize the data\n",
        "tokenizer = Tokenizer(num_words=20000)\n",
        "tokenizer.fit_on_texts(list(sentiment))\n",
        "seq = tokenizer.texts_to_sequences(sentiment)\n",
        "pad = pad_sequences(seq, maxlen=100)\n",
        "test_seq = tokenizer.texts_to_sequences(predict_data)\n",
        "test_pad = pad_sequences(test_seq, maxlen=100)\n"
      ],
      "metadata": {
        "id": "3NkJmMP0vxJ6"
      },
      "execution_count": 6,
      "outputs": []
    },
    {
      "cell_type": "code",
      "source": [
        "# Define the model architecture\n",
        "def model_with_subword_embedding():\n",
        "    inputs = Input(shape=(100, ))\n",
        "    x = Embedding(20000, 128)(inputs)\n",
        "    x = Bidirectional(LSTM(50))(x)\n",
        "    x = Dropout(0.1)(x)\n",
        "    x = Dense(50, activation=\"relu\")(x)\n",
        "    x = Dropout(0.1)(x)\n",
        "    outputs = Dense(6, activation=\"sigmoid\")(x)\n",
        "    model = Model(inputs=inputs, outputs=outputs)\n",
        "    model.compile(loss='binary_crossentropy', optimizer='adam', metrics=['accuracy'])\n",
        "    return model\n",
        "\n",
        "model = model_with_subword_embedding()\n",
        "print(model.summary())"
      ],
      "metadata": {
        "colab": {
          "base_uri": "https://localhost:8080/"
        },
        "id": "viZfpCjzv9Iv",
        "outputId": "c2dc8b58-28b3-48f2-8c85-7c344b8eccc5"
      },
      "execution_count": 7,
      "outputs": [
        {
          "output_type": "stream",
          "name": "stdout",
          "text": [
            "Model: \"model\"\n",
            "_________________________________________________________________\n",
            " Layer (type)                Output Shape              Param #   \n",
            "=================================================================\n",
            " input_1 (InputLayer)        [(None, 100)]             0         \n",
            "                                                                 \n",
            " embedding (Embedding)       (None, 100, 128)          2560000   \n",
            "                                                                 \n",
            " bidirectional (Bidirectiona  (None, 100)              71600     \n",
            " l)                                                              \n",
            "                                                                 \n",
            " dropout (Dropout)           (None, 100)               0         \n",
            "                                                                 \n",
            " dense (Dense)               (None, 50)                5050      \n",
            "                                                                 \n",
            " dropout_1 (Dropout)         (None, 50)                0         \n",
            "                                                                 \n",
            " dense_1 (Dense)             (None, 6)                 306       \n",
            "                                                                 \n",
            "=================================================================\n",
            "Total params: 2,636,956\n",
            "Trainable params: 2,636,956\n",
            "Non-trainable params: 0\n",
            "_________________________________________________________________\n",
            "None\n"
          ]
        }
      ]
    },
    {
      "cell_type": "code",
      "source": [
        "# Train the model\n",
        "model_with_subword = model_with_subword_embedding()\n",
        "early = EarlyStopping(monitor=\"val_loss\", mode=\"min\", patience=20)\n",
        "model_with_subword.fit(pad, y, batch_size=32, epochs=2, validation_split=0.1, callbacks=[early])"
      ],
      "metadata": {
        "colab": {
          "base_uri": "https://localhost:8080/"
        },
        "id": "C2Oi-ZWfwFli",
        "outputId": "6e19594e-b994-4a15-e371-76a9a41ebb0b"
      },
      "execution_count": 8,
      "outputs": [
        {
          "output_type": "stream",
          "name": "stdout",
          "text": [
            "Epoch 1/2\n",
            "3591/3591 [==============================] - 134s 35ms/step - loss: 0.0675 - accuracy: 0.9280 - val_loss: 0.0532 - val_accuracy: 0.9932\n",
            "Epoch 2/2\n",
            "3591/3591 [==============================] - 52s 14ms/step - loss: 0.0462 - accuracy: 0.9796 - val_loss: 0.0508 - val_accuracy: 0.9932\n"
          ]
        },
        {
          "output_type": "execute_result",
          "data": {
            "text/plain": [
              "<keras.callbacks.History at 0x7fbeb0471510>"
            ]
          },
          "metadata": {},
          "execution_count": 8
        }
      ]
    },
    {
      "cell_type": "code",
      "source": [
        "model.save('/content/drive/MyDrive/LSTM_with_subword')"
      ],
      "metadata": {
        "id": "t32LZpSDemWC",
        "outputId": "d3d7a2ee-54b3-4aac-a159-2fbd6f338776",
        "colab": {
          "base_uri": "https://localhost:8080/"
        }
      },
      "execution_count": 9,
      "outputs": [
        {
          "output_type": "stream",
          "name": "stderr",
          "text": [
            "WARNING:absl:Found untraced functions such as _update_step_xla, lstm_cell_1_layer_call_fn, lstm_cell_1_layer_call_and_return_conditional_losses, lstm_cell_2_layer_call_fn, lstm_cell_2_layer_call_and_return_conditional_losses while saving (showing 5 of 5). These functions will not be directly callable after loading.\n"
          ]
        }
      ]
    },
    {
      "cell_type": "code",
      "source": [
        "# Make predictions on the test data\n",
        "y_test_with_subword = model_with_subword.predict([test_pad], batch_size=1024, verbose=1)\n",
        "\n",
        "# Apply threshold and convert to 0 or 1\n",
        "threshold = 0.5  # Adjust this threshold as needed\n",
        "y_test_with_subword[y_test_with_subword >= threshold] = 1\n",
        "y_test_with_subword[y_test_with_subword < threshold] = 0\n",
        "y_test_with_subword = y_test_with_subword.astype(int)\n",
        "\n",
        "# Create a new DataFrame with the predicted labels without subword embeddings\n",
        "predict_labels_df_with_subword = pd.DataFrame(y_test_with_subword, columns=y_list)\n",
        "\n",
        "# Create a new DataFrame with the predicted labels without subword embeddings\n",
        "predict_data_df = pd.DataFrame(predict_data, columns=[\"Title\"])\n",
        "\n",
        "# Combine the original DataFrame with the predicted labels without subword embeddings\n",
        "predict_df_with_subword = pd.concat([predict_data_df, predict_labels_df_with_subword], axis=1)\n",
        "\n",
        "# Save the DataFrame to a CSV file\n",
        "predict_df_with_subword.to_csv('/content/drive/MyDrive/predict_lstm_with_subword.csv', index=False)"
      ],
      "metadata": {
        "colab": {
          "base_uri": "https://localhost:8080/"
        },
        "id": "14of2SRkwH-w",
        "outputId": "e1d543de-c236-4e84-ea23-663f07b64409"
      },
      "execution_count": 10,
      "outputs": [
        {
          "output_type": "stream",
          "name": "stdout",
          "text": [
            "32/32 [==============================] - 1s 14ms/step\n"
          ]
        }
      ]
    },
    {
      "cell_type": "code",
      "source": [
        "predict_df_with_subword"
      ],
      "metadata": {
        "colab": {
          "base_uri": "https://localhost:8080/",
          "height": 424
        },
        "id": "MoxfrMwM2Ruh",
        "outputId": "24490a61-f159-47d9-e90a-08a854e542a1"
      },
      "execution_count": 11,
      "outputs": [
        {
          "output_type": "execute_result",
          "data": {
            "text/plain": [
              "                                                   Title  toxic  severe_toxic  \\\n",
              "0      metalcore is NOT a punk genre you fucking idio...      1             0   \n",
              "1      The article is semi-protected.  You can't edit...      0             0   \n",
              "2      Moved \\n\\nI moved the article earlier and inco...      0             0   \n",
              "3      Thank you for the unblock. A lot of this seems...      0             0   \n",
              "4      \"\\n\\n  Your repeated efforts to vandalize arti...      0             0   \n",
              "...                                                  ...    ...           ...   \n",
              "31910  According to Lyle wossname the way they work o...      0             0   \n",
              "31911  Apologies that came off wrong. I didn't mean t...      0             0   \n",
              "31912  Sopher99 !!!!!!!!!\\n\\n5 reverts in a row !!!! ...      0             0   \n",
              "31913  In 1891, Samuel C. Dyke manufactured the first...      0             0   \n",
              "31914  Hello\\nI am currently working on the lists of ...      0             0   \n",
              "\n",
              "       obscene  threat  insult  identity_hate  \n",
              "0            1       0       1              0  \n",
              "1            0       0       0              0  \n",
              "2            0       0       0              0  \n",
              "3            0       0       0              0  \n",
              "4            0       0       0              0  \n",
              "...        ...     ...     ...            ...  \n",
              "31910        0       0       0              0  \n",
              "31911        0       0       0              0  \n",
              "31912        0       0       0              0  \n",
              "31913        0       0       0              0  \n",
              "31914        0       0       0              0  \n",
              "\n",
              "[31915 rows x 7 columns]"
            ],
            "text/html": [
              "\n",
              "  <div id=\"df-51d66255-c1ed-4eda-952f-2fe3686343db\">\n",
              "    <div class=\"colab-df-container\">\n",
              "      <div>\n",
              "<style scoped>\n",
              "    .dataframe tbody tr th:only-of-type {\n",
              "        vertical-align: middle;\n",
              "    }\n",
              "\n",
              "    .dataframe tbody tr th {\n",
              "        vertical-align: top;\n",
              "    }\n",
              "\n",
              "    .dataframe thead th {\n",
              "        text-align: right;\n",
              "    }\n",
              "</style>\n",
              "<table border=\"1\" class=\"dataframe\">\n",
              "  <thead>\n",
              "    <tr style=\"text-align: right;\">\n",
              "      <th></th>\n",
              "      <th>Title</th>\n",
              "      <th>toxic</th>\n",
              "      <th>severe_toxic</th>\n",
              "      <th>obscene</th>\n",
              "      <th>threat</th>\n",
              "      <th>insult</th>\n",
              "      <th>identity_hate</th>\n",
              "    </tr>\n",
              "  </thead>\n",
              "  <tbody>\n",
              "    <tr>\n",
              "      <th>0</th>\n",
              "      <td>metalcore is NOT a punk genre you fucking idio...</td>\n",
              "      <td>1</td>\n",
              "      <td>0</td>\n",
              "      <td>1</td>\n",
              "      <td>0</td>\n",
              "      <td>1</td>\n",
              "      <td>0</td>\n",
              "    </tr>\n",
              "    <tr>\n",
              "      <th>1</th>\n",
              "      <td>The article is semi-protected.  You can't edit...</td>\n",
              "      <td>0</td>\n",
              "      <td>0</td>\n",
              "      <td>0</td>\n",
              "      <td>0</td>\n",
              "      <td>0</td>\n",
              "      <td>0</td>\n",
              "    </tr>\n",
              "    <tr>\n",
              "      <th>2</th>\n",
              "      <td>Moved \\n\\nI moved the article earlier and inco...</td>\n",
              "      <td>0</td>\n",
              "      <td>0</td>\n",
              "      <td>0</td>\n",
              "      <td>0</td>\n",
              "      <td>0</td>\n",
              "      <td>0</td>\n",
              "    </tr>\n",
              "    <tr>\n",
              "      <th>3</th>\n",
              "      <td>Thank you for the unblock. A lot of this seems...</td>\n",
              "      <td>0</td>\n",
              "      <td>0</td>\n",
              "      <td>0</td>\n",
              "      <td>0</td>\n",
              "      <td>0</td>\n",
              "      <td>0</td>\n",
              "    </tr>\n",
              "    <tr>\n",
              "      <th>4</th>\n",
              "      <td>\"\\n\\n  Your repeated efforts to vandalize arti...</td>\n",
              "      <td>0</td>\n",
              "      <td>0</td>\n",
              "      <td>0</td>\n",
              "      <td>0</td>\n",
              "      <td>0</td>\n",
              "      <td>0</td>\n",
              "    </tr>\n",
              "    <tr>\n",
              "      <th>...</th>\n",
              "      <td>...</td>\n",
              "      <td>...</td>\n",
              "      <td>...</td>\n",
              "      <td>...</td>\n",
              "      <td>...</td>\n",
              "      <td>...</td>\n",
              "      <td>...</td>\n",
              "    </tr>\n",
              "    <tr>\n",
              "      <th>31910</th>\n",
              "      <td>According to Lyle wossname the way they work o...</td>\n",
              "      <td>0</td>\n",
              "      <td>0</td>\n",
              "      <td>0</td>\n",
              "      <td>0</td>\n",
              "      <td>0</td>\n",
              "      <td>0</td>\n",
              "    </tr>\n",
              "    <tr>\n",
              "      <th>31911</th>\n",
              "      <td>Apologies that came off wrong. I didn't mean t...</td>\n",
              "      <td>0</td>\n",
              "      <td>0</td>\n",
              "      <td>0</td>\n",
              "      <td>0</td>\n",
              "      <td>0</td>\n",
              "      <td>0</td>\n",
              "    </tr>\n",
              "    <tr>\n",
              "      <th>31912</th>\n",
              "      <td>Sopher99 !!!!!!!!!\\n\\n5 reverts in a row !!!! ...</td>\n",
              "      <td>0</td>\n",
              "      <td>0</td>\n",
              "      <td>0</td>\n",
              "      <td>0</td>\n",
              "      <td>0</td>\n",
              "      <td>0</td>\n",
              "    </tr>\n",
              "    <tr>\n",
              "      <th>31913</th>\n",
              "      <td>In 1891, Samuel C. Dyke manufactured the first...</td>\n",
              "      <td>0</td>\n",
              "      <td>0</td>\n",
              "      <td>0</td>\n",
              "      <td>0</td>\n",
              "      <td>0</td>\n",
              "      <td>0</td>\n",
              "    </tr>\n",
              "    <tr>\n",
              "      <th>31914</th>\n",
              "      <td>Hello\\nI am currently working on the lists of ...</td>\n",
              "      <td>0</td>\n",
              "      <td>0</td>\n",
              "      <td>0</td>\n",
              "      <td>0</td>\n",
              "      <td>0</td>\n",
              "      <td>0</td>\n",
              "    </tr>\n",
              "  </tbody>\n",
              "</table>\n",
              "<p>31915 rows × 7 columns</p>\n",
              "</div>\n",
              "      <button class=\"colab-df-convert\" onclick=\"convertToInteractive('df-51d66255-c1ed-4eda-952f-2fe3686343db')\"\n",
              "              title=\"Convert this dataframe to an interactive table.\"\n",
              "              style=\"display:none;\">\n",
              "        \n",
              "  <svg xmlns=\"http://www.w3.org/2000/svg\" height=\"24px\"viewBox=\"0 0 24 24\"\n",
              "       width=\"24px\">\n",
              "    <path d=\"M0 0h24v24H0V0z\" fill=\"none\"/>\n",
              "    <path d=\"M18.56 5.44l.94 2.06.94-2.06 2.06-.94-2.06-.94-.94-2.06-.94 2.06-2.06.94zm-11 1L8.5 8.5l.94-2.06 2.06-.94-2.06-.94L8.5 2.5l-.94 2.06-2.06.94zm10 10l.94 2.06.94-2.06 2.06-.94-2.06-.94-.94-2.06-.94 2.06-2.06.94z\"/><path d=\"M17.41 7.96l-1.37-1.37c-.4-.4-.92-.59-1.43-.59-.52 0-1.04.2-1.43.59L10.3 9.45l-7.72 7.72c-.78.78-.78 2.05 0 2.83L4 21.41c.39.39.9.59 1.41.59.51 0 1.02-.2 1.41-.59l7.78-7.78 2.81-2.81c.8-.78.8-2.07 0-2.86zM5.41 20L4 18.59l7.72-7.72 1.47 1.35L5.41 20z\"/>\n",
              "  </svg>\n",
              "      </button>\n",
              "      \n",
              "  <style>\n",
              "    .colab-df-container {\n",
              "      display:flex;\n",
              "      flex-wrap:wrap;\n",
              "      gap: 12px;\n",
              "    }\n",
              "\n",
              "    .colab-df-convert {\n",
              "      background-color: #E8F0FE;\n",
              "      border: none;\n",
              "      border-radius: 50%;\n",
              "      cursor: pointer;\n",
              "      display: none;\n",
              "      fill: #1967D2;\n",
              "      height: 32px;\n",
              "      padding: 0 0 0 0;\n",
              "      width: 32px;\n",
              "    }\n",
              "\n",
              "    .colab-df-convert:hover {\n",
              "      background-color: #E2EBFA;\n",
              "      box-shadow: 0px 1px 2px rgba(60, 64, 67, 0.3), 0px 1px 3px 1px rgba(60, 64, 67, 0.15);\n",
              "      fill: #174EA6;\n",
              "    }\n",
              "\n",
              "    [theme=dark] .colab-df-convert {\n",
              "      background-color: #3B4455;\n",
              "      fill: #D2E3FC;\n",
              "    }\n",
              "\n",
              "    [theme=dark] .colab-df-convert:hover {\n",
              "      background-color: #434B5C;\n",
              "      box-shadow: 0px 1px 3px 1px rgba(0, 0, 0, 0.15);\n",
              "      filter: drop-shadow(0px 1px 2px rgba(0, 0, 0, 0.3));\n",
              "      fill: #FFFFFF;\n",
              "    }\n",
              "  </style>\n",
              "\n",
              "      <script>\n",
              "        const buttonEl =\n",
              "          document.querySelector('#df-51d66255-c1ed-4eda-952f-2fe3686343db button.colab-df-convert');\n",
              "        buttonEl.style.display =\n",
              "          google.colab.kernel.accessAllowed ? 'block' : 'none';\n",
              "\n",
              "        async function convertToInteractive(key) {\n",
              "          const element = document.querySelector('#df-51d66255-c1ed-4eda-952f-2fe3686343db');\n",
              "          const dataTable =\n",
              "            await google.colab.kernel.invokeFunction('convertToInteractive',\n",
              "                                                     [key], {});\n",
              "          if (!dataTable) return;\n",
              "\n",
              "          const docLinkHtml = 'Like what you see? Visit the ' +\n",
              "            '<a target=\"_blank\" href=https://colab.research.google.com/notebooks/data_table.ipynb>data table notebook</a>'\n",
              "            + ' to learn more about interactive tables.';\n",
              "          element.innerHTML = '';\n",
              "          dataTable['output_type'] = 'display_data';\n",
              "          await google.colab.output.renderOutput(dataTable, element);\n",
              "          const docLink = document.createElement('div');\n",
              "          docLink.innerHTML = docLinkHtml;\n",
              "          element.appendChild(docLink);\n",
              "        }\n",
              "      </script>\n",
              "    </div>\n",
              "  </div>\n",
              "  "
            ]
          },
          "metadata": {},
          "execution_count": 11
        }
      ]
    },
    {
      "cell_type": "code",
      "execution_count": 12,
      "metadata": {
        "colab": {
          "base_uri": "https://localhost:8080/"
        },
        "id": "ayp5vUOUvddS",
        "outputId": "07be34cd-61eb-40e8-a298-fea199ff1c29"
      },
      "outputs": [
        {
          "output_type": "stream",
          "name": "stdout",
          "text": [
            "Accuracy (with subword embeddings): 91.88782704057652\n",
            "F1 Score (with subword embeddings): 71.95793279106071\n"
          ]
        }
      ],
      "source": [
        "import numpy as np\n",
        "# Calculate accuracy and F1 score for the model with subword embeddings\n",
        "from sklearn.metrics import accuracy_score, f1_score\n",
        "\n",
        "# Assuming you have the true labels for the test data\n",
        "y_test_true = test[y_list].values\n",
        "\n",
        "# Apply threshold to convert to binary values\n",
        "y_test_true = np.where(y_test_true >= threshold, 1, 0)\n",
        "\n",
        "# Assuming you have the true labels for the test data in y_test_true\n",
        "accuracy_with_subword = accuracy_score(y_test_true, y_test_with_subword)*100\n",
        "f1_score_with_subword = f1_score(y_test_true, y_test_with_subword, average='micro')*100\n",
        "\n",
        "# Print accuracy and F1 score\n",
        "print(\"Accuracy (with subword embeddings):\", accuracy_with_subword)\n",
        "print(\"F1 Score (with subword embeddings):\", f1_score_with_subword)\n"
      ]
    }
  ]
}