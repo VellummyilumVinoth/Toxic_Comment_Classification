{
  "nbformat": 4,
  "nbformat_minor": 0,
  "metadata": {
    "colab": {
      "provenance": [],
      "authorship_tag": "ABX9TyMw6Awh7CJAiYxeMhyW28KN",
      "include_colab_link": true
    },
    "kernelspec": {
      "name": "python3",
      "display_name": "Python 3"
    },
    "language_info": {
      "name": "python"
    }
  },
  "cells": [
    {
      "cell_type": "markdown",
      "metadata": {
        "id": "view-in-github",
        "colab_type": "text"
      },
      "source": [
        "<a href=\"https://colab.research.google.com/github/VellummyilumVinoth/Toxic_Comment_Classification/blob/main/Ordering_author.ipynb\" target=\"_parent\"><img src=\"https://colab.research.google.com/assets/colab-badge.svg\" alt=\"Open In Colab\"/></a>"
      ]
    },
    {
      "cell_type": "code",
      "execution_count": null,
      "metadata": {
        "id": "f5Myz15sxfqx"
      },
      "outputs": [],
      "source": [
        "import pandas as pd\n",
        "from nltk.sentiment import SentimentIntensityAnalyzer\n",
        "\n",
        "import nltk\n",
        "nltk.download('vader_lexicon')\n",
        "\n",
        "# Load the dataset\n",
        "df = pd.read_csv('/content/drive/MyDrive/preprocessed_Reddit_Data_1.csv') \n",
        "\n",
        "columns_to_keep = ['id', 'author', 'Title']\n",
        "predict_data = predict_data[columns_to_keep]\n",
        "\n",
        "# Extract top 5 authors and their post titles\n",
        "top_authors = df['author'].value_counts().nlargest(5).index.tolist()\n",
        "author_posts = df[df['author'].isin(top_authors)].groupby('author')['Title'].apply(lambda x: x.head(10)).reset_index()\n",
        "\n",
        "# Perform sentiment analysis on post titles\n",
        "sia = SentimentIntensityAnalyzer()\n",
        "author_posts['sentiment_score'] = author_posts['Title'].apply(lambda x: sia.polarity_scores(x)['compound'])\n",
        "\n",
        "# Calculate toxic comment counts\n",
        "toxic_threshold = 0.5  # Define a threshold for toxicity\n",
        "author_posts['toxic_comments_count'] = author_posts['sentiment_score'].apply(lambda x: 1 if x < toxic_threshold else 0)\n",
        "author_toxic_counts = author_posts.groupby('author')['toxic_comments_count'].sum().reset_index()\n",
        "\n",
        "# Order authors based on toxic comment counts\n",
        "author_toxic_counts = author_toxic_counts.sort_values('toxic_comments_count', ascending=False)\n",
        "\n",
        "print(author_toxic_counts)\n"
      ]
    }
  ]
}