{
  "nbformat": 4,
  "nbformat_minor": 0,
  "metadata": {
    "colab": {
      "provenance": [],
      "gpuType": "T4",
      "include_colab_link": true
    },
    "kernelspec": {
      "name": "python3",
      "display_name": "Python 3"
    },
    "language_info": {
      "name": "python"
    },
    "accelerator": "GPU"
  },
  "cells": [
    {
      "cell_type": "markdown",
      "metadata": {
        "id": "view-in-github",
        "colab_type": "text"
      },
      "source": [
        "<a href=\"https://colab.research.google.com/github/VellummyilumVinoth/Toxic_Comment_Classification/blob/main/Scrap_user_data.ipynb\" target=\"_parent\"><img src=\"https://colab.research.google.com/assets/colab-badge.svg\" alt=\"Open In Colab\"/></a>"
      ]
    },
    {
      "cell_type": "code",
      "execution_count": 1,
      "metadata": {
        "colab": {
          "base_uri": "https://localhost:8080/"
        },
        "id": "tvvZA0GACiV5",
        "outputId": "ea22c5ec-36ea-4a60-e017-967f52e6bbc7"
      },
      "outputs": [
        {
          "output_type": "stream",
          "name": "stdout",
          "text": [
            "Looking in indexes: https://pypi.org/simple, https://us-python.pkg.dev/colab-wheels/public/simple/\n",
            "Collecting praw\n",
            "  Downloading praw-7.7.0-py3-none-any.whl (189 kB)\n",
            "\u001b[2K     \u001b[90m━━━━━━━━━━━━━━━━━━━━━━━━━━━━━━━━━━━━━━━\u001b[0m \u001b[32m189.4/189.4 kB\u001b[0m \u001b[31m2.5 MB/s\u001b[0m eta \u001b[36m0:00:00\u001b[0m\n",
            "\u001b[?25hCollecting prawcore<3,>=2.1 (from praw)\n",
            "  Downloading prawcore-2.3.0-py3-none-any.whl (16 kB)\n",
            "Collecting update-checker>=0.18 (from praw)\n",
            "  Downloading update_checker-0.18.0-py3-none-any.whl (7.0 kB)\n",
            "Requirement already satisfied: websocket-client>=0.54.0 in /usr/local/lib/python3.10/dist-packages (from praw) (1.5.1)\n",
            "Requirement already satisfied: requests<3.0,>=2.6.0 in /usr/local/lib/python3.10/dist-packages (from prawcore<3,>=2.1->praw) (2.27.1)\n",
            "Requirement already satisfied: urllib3<1.27,>=1.21.1 in /usr/local/lib/python3.10/dist-packages (from requests<3.0,>=2.6.0->prawcore<3,>=2.1->praw) (1.26.15)\n",
            "Requirement already satisfied: certifi>=2017.4.17 in /usr/local/lib/python3.10/dist-packages (from requests<3.0,>=2.6.0->prawcore<3,>=2.1->praw) (2022.12.7)\n",
            "Requirement already satisfied: charset-normalizer~=2.0.0 in /usr/local/lib/python3.10/dist-packages (from requests<3.0,>=2.6.0->prawcore<3,>=2.1->praw) (2.0.12)\n",
            "Requirement already satisfied: idna<4,>=2.5 in /usr/local/lib/python3.10/dist-packages (from requests<3.0,>=2.6.0->prawcore<3,>=2.1->praw) (3.4)\n",
            "Installing collected packages: update-checker, prawcore, praw\n",
            "Successfully installed praw-7.7.0 prawcore-2.3.0 update-checker-0.18.0\n"
          ]
        }
      ],
      "source": [
        "#intall python reddit api wrapper\n",
        "! pip install praw"
      ]
    },
    {
      "cell_type": "code",
      "source": [
        "from pprint import pprint\n",
        "import pandas as pd\n",
        "import numpy as np\n",
        "import matplotlib.pyplot as plt\n",
        "import seaborn as sns\n",
        "import praw\n",
        "from datetime import datetime, timedelta"
      ],
      "metadata": {
        "id": "DTzPzCC1CsvK"
      },
      "execution_count": 2,
      "outputs": []
    },
    {
      "cell_type": "code",
      "source": [
        "import praw\n",
        "import pandas as pd\n",
        "\n",
        "reddit = praw.Reddit(\n",
        "    client_id='4HprKxXtcLSkJ6uftWSzIg',\n",
        "    client_secret='IN18nxBl_9vZrRQBTTLWrF7a5dewwA',\n",
        "    user_agent='user_agent',\n",
        "\t\tcheck_for_async=False\n",
        ")\n",
        "\n"
      ],
      "metadata": {
        "id": "F7xVVbxvMjZ0"
      },
      "execution_count": 3,
      "outputs": []
    },
    {
      "cell_type": "code",
      "source": [
        "import csv\n",
        "\n",
        "# Create a list to store the data for each user\n",
        "user_data = []\n",
        "\n",
        "usernames = ['Orcasystems99', 'RevealDisinfo', 'Excellent-Issue3214', 'MantasChan', 'themimeofthemollies']  # Replace with the target user's usernames\n",
        "\n",
        "current_date = datetime.now()\n",
        "# Calculate the start and end dates for the desired week\n",
        "start_date = (current_date - timedelta(days=current_date.weekday())).date()\n",
        "end_date = start_date + timedelta(days=6)\n",
        "\n",
        "# Create dictionaries to store the author names and titles separately\n",
        "author_names = {}\n",
        "post_titles = {}\n",
        "\n",
        "for username in usernames:\n",
        "    # Fetch the Redditor instance for the target user\n",
        "    redditor = reddit.redditor(username)\n",
        "\n",
        "    # Iterate over the user's submissions (posts)\n",
        "    for submission in redditor.submissions.new(limit=None):\n",
        "        post_date = datetime.fromtimestamp(submission.created_utc).date()\n",
        "      \n",
        "        if start_date <= post_date <= end_date:\n",
        "            # Store the author name in the dictionary\n",
        "            author_names.setdefault(username, []).append(username)\n",
        "            \n",
        "            # Store the post title in the dictionary\n",
        "            post_titles.setdefault(username, []).append(submission.title)\n",
        "\n",
        "# Combine the author names and post titles dictionaries into a single list\n",
        "combined_data = []\n",
        "for username in usernames:\n",
        "    for i in range(len(author_names.get(username, []))):\n",
        "        combined_data.append({\n",
        "            'Username': author_names[username][i],\n",
        "            'Post Title': post_titles[username][i]\n",
        "        })\n",
        "\n",
        "# Specify the CSV file path\n",
        "csv_file = 'reddit_posts.csv'\n",
        "\n",
        "# Write the user data to the CSV file\n",
        "with open(csv_file, 'w', newline='', encoding='utf-8') as file:\n",
        "    fieldnames = ['Username', 'Post Title']\n",
        "    writer = csv.DictWriter(file, fieldnames=fieldnames)\n",
        "    \n",
        "    # Write the header row\n",
        "    writer.writeheader()\n",
        "\n",
        "    # Write the data rows\n",
        "    for data in combined_data:\n",
        "        writer.writerow(data)\n",
        "\n",
        "print(f\"Data saved to {csv_file}.\")"
      ],
      "metadata": {
        "colab": {
          "base_uri": "https://localhost:8080/"
        },
        "id": "ANd28Icaml3z",
        "outputId": "0ac51faf-c61b-4cd4-eb4e-4e6d551d3f7a"
      },
      "execution_count": 4,
      "outputs": [
        {
          "output_type": "stream",
          "name": "stdout",
          "text": [
            "Data saved to reddit_posts.csv.\n"
          ]
        }
      ]
    },
    {
      "cell_type": "code",
      "source": [
        "from google.colab import files\n",
        "files.download('reddit_posts.csv')"
      ],
      "metadata": {
        "colab": {
          "base_uri": "https://localhost:8080/",
          "height": 17
        },
        "id": "05CTdjRamuSd",
        "outputId": "69ba632b-e828-4db0-ff40-2ebc6561a0b4"
      },
      "execution_count": 7,
      "outputs": [
        {
          "output_type": "display_data",
          "data": {
            "text/plain": [
              "<IPython.core.display.Javascript object>"
            ],
            "application/javascript": [
              "\n",
              "    async function download(id, filename, size) {\n",
              "      if (!google.colab.kernel.accessAllowed) {\n",
              "        return;\n",
              "      }\n",
              "      const div = document.createElement('div');\n",
              "      const label = document.createElement('label');\n",
              "      label.textContent = `Downloading \"${filename}\": `;\n",
              "      div.appendChild(label);\n",
              "      const progress = document.createElement('progress');\n",
              "      progress.max = size;\n",
              "      div.appendChild(progress);\n",
              "      document.body.appendChild(div);\n",
              "\n",
              "      const buffers = [];\n",
              "      let downloaded = 0;\n",
              "\n",
              "      const channel = await google.colab.kernel.comms.open(id);\n",
              "      // Send a message to notify the kernel that we're ready.\n",
              "      channel.send({})\n",
              "\n",
              "      for await (const message of channel.messages) {\n",
              "        // Send a message to notify the kernel that we're ready.\n",
              "        channel.send({})\n",
              "        if (message.buffers) {\n",
              "          for (const buffer of message.buffers) {\n",
              "            buffers.push(buffer);\n",
              "            downloaded += buffer.byteLength;\n",
              "            progress.value = downloaded;\n",
              "          }\n",
              "        }\n",
              "      }\n",
              "      const blob = new Blob(buffers, {type: 'application/binary'});\n",
              "      const a = document.createElement('a');\n",
              "      a.href = window.URL.createObjectURL(blob);\n",
              "      a.download = filename;\n",
              "      div.appendChild(a);\n",
              "      a.click();\n",
              "      div.remove();\n",
              "    }\n",
              "  "
            ]
          },
          "metadata": {}
        },
        {
          "output_type": "display_data",
          "data": {
            "text/plain": [
              "<IPython.core.display.Javascript object>"
            ],
            "application/javascript": [
              "download(\"download_70a5935b-1fcc-40a3-83b5-b1968e3c2ec7\", \"reddit_posts.csv\", 17691)"
            ]
          },
          "metadata": {}
        }
      ]
    },
    {
      "cell_type": "code",
      "source": [
        "import csv\n",
        "from textblob import TextBlob\n",
        "\n",
        "# Load the CSV file\n",
        "csv_file = 'reddit_posts.csv'\n",
        "\n",
        "# Create a dictionary to store the toxic scores for each author\n",
        "toxic_scores = {}\n",
        "\n",
        "# Read the CSV file and calculate toxic scores\n",
        "with open(csv_file, 'r', encoding='utf-8') as file:\n",
        "    reader = csv.DictReader(file)\n",
        "\n",
        "    for row in reader:\n",
        "        username = row['Username']\n",
        "        post_title = row['Post Title']\n",
        "\n",
        "        # Perform sentiment analysis on the post title\n",
        "        blob = TextBlob(post_title)\n",
        "        toxic_score = blob.sentiment.polarity\n",
        "\n",
        "        # Update the toxic scores for the author\n",
        "        toxic_scores.setdefault(username, []).append(toxic_score)\n",
        "\n",
        "# Calculate the average toxic score for each author\n",
        "average_scores = {}\n",
        "for username, scores in toxic_scores.items():\n",
        "    average_score = sum(scores) / len(scores)\n",
        "    average_scores[username] = average_score\n",
        "\n",
        "# Sort the authors based on the average toxic score\n",
        "sorted_authors = sorted(average_scores.items(), key=lambda x: x[1], reverse=True)\n",
        "\n",
        "# Display the sorted authors and their toxic scores\n",
        "print(\"Ranking of Authors by Toxic Score:\")\n",
        "for rank, (author, score) in enumerate(sorted_authors, start=1):\n",
        "    print(f\"Rank {rank}: Author: {author}, Average Toxic Score: {score:.4F}\")\n"
      ],
      "metadata": {
        "colab": {
          "base_uri": "https://localhost:8080/"
        },
        "id": "vJnexKbUl5TW",
        "outputId": "bda121b2-3d77-4452-a045-be3cfd6c2fd9"
      },
      "execution_count": 8,
      "outputs": [
        {
          "output_type": "stream",
          "name": "stdout",
          "text": [
            "Ranking of Authors by Toxic Score:\n",
            "Rank 1: Author: RevealDisinfo, Average Toxic Score: 0.0695\n",
            "Rank 2: Author: Orcasystems99, Average Toxic Score: 0.0226\n",
            "Rank 3: Author: themimeofthemollies, Average Toxic Score: 0.0141\n",
            "Rank 4: Author: MantasChan, Average Toxic Score: -0.0152\n",
            "Rank 5: Author: Excellent-Issue3214, Average Toxic Score: -0.0206\n"
          ]
        }
      ]
    }
  ]
}