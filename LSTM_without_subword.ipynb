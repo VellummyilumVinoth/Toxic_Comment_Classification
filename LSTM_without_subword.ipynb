{
  "cells": [
    {
      "cell_type": "markdown",
      "metadata": {
        "id": "view-in-github",
        "colab_type": "text"
      },
      "source": [
        "<a href=\"https://colab.research.google.com/github/VellummyilumVinoth/Toxic_Comment_Classification/blob/main/LSTM_without_subword.ipynb\" target=\"_parent\"><img src=\"https://colab.research.google.com/assets/colab-badge.svg\" alt=\"Open In Colab\"/></a>"
      ]
    },
    {
      "cell_type": "code",
      "source": [
        "from google.colab import drive\n",
        "drive.mount('/content/drive')"
      ],
      "metadata": {
        "colab": {
          "base_uri": "https://localhost:8080/"
        },
        "id": "G-4gH-PoRe6W",
        "outputId": "b3bcbb2a-9c8d-484a-fae3-5a71a2e9cb83"
      },
      "execution_count": 1,
      "outputs": [
        {
          "output_type": "stream",
          "name": "stdout",
          "text": [
            "Mounted at /content/drive\n"
          ]
        }
      ]
    },
    {
      "cell_type": "code",
      "source": [
        "from keras.preprocessing.text import Tokenizer\n",
        "from tensorflow.keras.preprocessing.sequence import pad_sequences\n",
        "from keras.layers import Dense, Input, LSTM, Dropout\n",
        "from keras.layers import Bidirectional, GlobalMaxPool1D\n",
        "from keras.models import Model\n",
        "from keras.callbacks import EarlyStopping\n",
        "import pandas as pd"
      ],
      "metadata": {
        "id": "pL97-0Jqg1cR"
      },
      "execution_count": 2,
      "outputs": []
    },
    {
      "metadata": {
        "_uuid": "d629ff2d2480ee46fbb7e2d37f6b5fab8052498a",
        "_cell_guid": "79c7e3d0-c299-4dcb-8224-4455121ee9b0",
        "trusted": true,
        "id": "q6X0x_dCMsC_"
      },
      "cell_type": "code",
      "source": [
        "# Load and preprocess the data\n",
        "dataset = pd.read_csv('/content/drive/MyDrive/Dats/Kaggle/pre_data_train.csv')\n",
        "\n",
        "from sklearn.model_selection import train_test_split\n",
        "\n",
        "dataset, test = train_test_split(dataset, test_size=0.2)\n"
      ],
      "execution_count": 14,
      "outputs": []
    },
    {
      "metadata": {
        "trusted": true,
        "colab": {
          "base_uri": "https://localhost:8080/"
        },
        "id": "S6aXeOvdMsDA",
        "outputId": "58ee06c3-ea80-47a8-df75-cb0ee5749a45"
      },
      "cell_type": "code",
      "source": [
        "dataset.isnull().sum()"
      ],
      "execution_count": 15,
      "outputs": [
        {
          "output_type": "execute_result",
          "data": {
            "text/plain": [
              "id                    0\n",
              "comment_text          0\n",
              "toxic                 0\n",
              "severe_toxic          0\n",
              "obscene               0\n",
              "threat                0\n",
              "insult                0\n",
              "identity_hate         0\n",
              "preprocessed_text    41\n",
              "dtype: int64"
            ]
          },
          "metadata": {},
          "execution_count": 15
        }
      ]
    },
    {
      "metadata": {
        "trusted": true,
        "colab": {
          "base_uri": "https://localhost:8080/"
        },
        "id": "IopHA_L-MsDA",
        "outputId": "29624533-0900-473a-9d5a-aabe32180020"
      },
      "cell_type": "code",
      "source": [
        "sentiment = dataset['preprocessed_text'].values\n",
        "y_list = [\"toxic\",\"severe_toxic\", \"obscene\", \"threat\", \"insult\", \"identity_hate\"]\n",
        "y = dataset[y_list].values\n",
        "sentiment"
      ],
      "execution_count": 19,
      "outputs": [
        {
          "output_type": "execute_result",
          "data": {
            "text/plain": [
              "array(['never delete bike bite like',\n",
              "       'username contact dewiki maybe steward let know steal username question please tell contact thank',\n",
              "       'finally encyclopedically relevant look something actually good like edward morgan article scottish literature midthcentury britannicas example would conclusion superb essay intellectual level seldom scale wikipedia presumably lack aspiration rather competence problem english scot one still work difficulty part whole cultural situation scottish sense separateness real swamp english dominant prose write educate speech scottish poet th century therefore like shaman must try many disguise find one best prophesy persuade',\n",
              "       ...,\n",
              "       'support least get rid flash funk part title he special case he wwf use flash funk moniker cold scorpio scorpio far well know ring name likely never use cold scorpio majority career wcw ecw japan run still think change cold scorpio regardless name take make onscreen appearance wwe',\n",
              "       'server go temporarily think maintenance guy outside hit wire tajms atheist holy cow batman like hook original adjective home let look archive like second hook finish read post btw offensive need learn stuff like editting skill best know write graduate level wikipedia get butt edit kick regularly',\n",
              "       'link faga template transclusions wuuwiki hello please remove link faga template wuu wikipedia thank'],\n",
              "      dtype=object)"
            ]
          },
          "metadata": {},
          "execution_count": 19
        }
      ]
    },
    {
      "cell_type": "code",
      "source": [
        "predict_data = test['preprocessed_text'].values"
      ],
      "metadata": {
        "id": "fds6LIRbhSZ-"
      },
      "execution_count": 20,
      "outputs": []
    },
    {
      "cell_type": "code",
      "source": [
        "predict_data"
      ],
      "metadata": {
        "id": "9Xx--ZGGzZyW",
        "outputId": "a5c9462c-755b-4b40-f970-f57f8e6811f9",
        "colab": {
          "base_uri": "https://localhost:8080/"
        }
      },
      "execution_count": 23,
      "outputs": [
        {
          "output_type": "execute_result",
          "data": {
            "text/plain": [
              "array(['ill look also could get picture cross section soil horizon eh',\n",
              "       'svg issue quite welcome friend',\n",
              "       'tan wikipedias worker whatever tan go hell grow ball get girlfriend rather spend life wikipedia',\n",
              "       ...,\n",
              "       'thank reply original comment certainly label anyone thats write hint prejudice however doesnt much appeal block base assumption intentionally try manipulate post criticize edit true browse different website time write one sentence wrong place switch browser tab sentence make sense comment',\n",
              "       'cfm nomination u state subcategories categorymembers constitution party unite state consider merge parent category encourage join discussion category discussion page',\n",
              "       'gay person earth boing say zebedee'], dtype=object)"
            ]
          },
          "metadata": {},
          "execution_count": 23
        }
      ]
    },
    {
      "metadata": {
        "trusted": true,
        "id": "ItANI__xMsDB"
      },
      "cell_type": "code",
      "source": [
        "# Convert float values to strings\n",
        "sentiment = np.array(sentiment, dtype=str)\n",
        "predict_data = np.array(predict_data, dtype=str)\n",
        "\n",
        "# Tokenize the data\n",
        "tokenizer = Tokenizer(num_words=20000)\n",
        "tokenizer.fit_on_texts(list(sentiment))\n",
        "seq = tokenizer.texts_to_sequences(sentiment)\n",
        "pad = pad_sequences(seq, maxlen=100)\n",
        "test_seq = tokenizer.texts_to_sequences(predict_data)\n",
        "test_pad = pad_sequences(test_seq, maxlen=100)"
      ],
      "execution_count": 25,
      "outputs": []
    },
    {
      "metadata": {
        "trusted": true,
        "colab": {
          "base_uri": "https://localhost:8080/"
        },
        "id": "ikMbPizrMsDC",
        "outputId": "0ed209a5-b02f-40bf-9cf3-9317ceac7f62"
      },
      "cell_type": "code",
      "source": [
        "from keras.layers import Reshape\n",
        "\n",
        "# Define the model architecture without subword embeddings\n",
        "def model_without_subword_embedding():\n",
        "    inputs = Input(shape=(100,))\n",
        "    x = Reshape((100, 1))(inputs)\n",
        "    x = LSTM(50)(x)\n",
        "    x = Dropout(0.1)(x)\n",
        "    x = Dense(50, activation=\"relu\")(x)\n",
        "    x = Dropout(0.1)(x)\n",
        "    outputs = Dense(6, activation=\"sigmoid\")(x)\n",
        "    model = Model(inputs=inputs, outputs=outputs)\n",
        "    model.compile(loss='binary_crossentropy', optimizer='adam', metrics=['accuracy'])\n",
        "    return model\n",
        "\n",
        "model = model_without_subword_embedding()\n",
        "print(model.summary())"
      ],
      "execution_count": 26,
      "outputs": [
        {
          "output_type": "stream",
          "name": "stdout",
          "text": [
            "Model: \"model_2\"\n",
            "_________________________________________________________________\n",
            " Layer (type)                Output Shape              Param #   \n",
            "=================================================================\n",
            " input_3 (InputLayer)        [(None, 100)]             0         \n",
            "                                                                 \n",
            " reshape_2 (Reshape)         (None, 100, 1)            0         \n",
            "                                                                 \n",
            " lstm_2 (LSTM)               (None, 50)                10400     \n",
            "                                                                 \n",
            " dropout_4 (Dropout)         (None, 50)                0         \n",
            "                                                                 \n",
            " dense_4 (Dense)             (None, 50)                2550      \n",
            "                                                                 \n",
            " dropout_5 (Dropout)         (None, 50)                0         \n",
            "                                                                 \n",
            " dense_5 (Dense)             (None, 6)                 306       \n",
            "                                                                 \n",
            "=================================================================\n",
            "Total params: 13,256\n",
            "Trainable params: 13,256\n",
            "Non-trainable params: 0\n",
            "_________________________________________________________________\n",
            "None\n"
          ]
        }
      ]
    },
    {
      "cell_type": "code",
      "source": [
        "# Train the model without subword embeddings\n",
        "model_without_subword = model_without_subword_embedding()\n",
        "early = EarlyStopping(monitor=\"val_loss\", mode=\"min\", patience=20)\n",
        "model_without_subword.fit(pad, y, batch_size=32, epochs=2, validation_split=0.1, callbacks=[early])\n"
      ],
      "metadata": {
        "id": "iuOhr-Z3hmeD",
        "colab": {
          "base_uri": "https://localhost:8080/"
        },
        "outputId": "061e3c64-72b9-4665-f496-d4ef652d7202"
      },
      "execution_count": 27,
      "outputs": [
        {
          "output_type": "stream",
          "name": "stdout",
          "text": [
            "Epoch 1/2\n",
            "3591/3591 [==============================] - 30s 8ms/step - loss: 0.1408 - accuracy: 0.9334 - val_loss: 0.1376 - val_accuracy: 0.9941\n",
            "Epoch 2/2\n",
            "3591/3591 [==============================] - 26s 7ms/step - loss: 0.1363 - accuracy: 0.9925 - val_loss: 0.1371 - val_accuracy: 0.9941\n"
          ]
        },
        {
          "output_type": "execute_result",
          "data": {
            "text/plain": [
              "<keras.callbacks.History at 0x7f61efc4f4c0>"
            ]
          },
          "metadata": {},
          "execution_count": 27
        }
      ]
    },
    {
      "cell_type": "code",
      "source": [
        "model.save('/content/drive/MyDrive/LSTM_without_subword')"
      ],
      "metadata": {
        "colab": {
          "base_uri": "https://localhost:8080/"
        },
        "id": "aKLp0S02UD3r",
        "outputId": "82b8abe0-29e2-4968-a155-f411db06f8c3"
      },
      "execution_count": 28,
      "outputs": [
        {
          "output_type": "stream",
          "name": "stderr",
          "text": [
            "WARNING:absl:Found untraced functions such as _update_step_xla, lstm_cell_2_layer_call_fn, lstm_cell_2_layer_call_and_return_conditional_losses while saving (showing 3 of 3). These functions will not be directly callable after loading.\n"
          ]
        }
      ]
    },
    {
      "cell_type": "code",
      "source": [
        "# Make predictions on the test data without subword embeddings\n",
        "y_test_without_subword = model_without_subword.predict([test_pad], batch_size=1024, verbose=1)\n",
        "\n",
        "# Apply threshold and convert to 0 or 1\n",
        "threshold = 0.16  # Adjust this threshold as needed\n",
        "y_test_without_subword[y_test_without_subword >= threshold] = 1\n",
        "y_test_without_subword[y_test_without_subword < threshold] = 0\n",
        "y_test_without_subword = y_test_without_subword.astype(int)\n",
        "\n",
        "# Create a new DataFrame with the predicted labels without subword embeddings\n",
        "predict_labels_df_without_subword = pd.DataFrame(y_test_without_subword, columns=y_list)\n",
        "\n",
        "# Create a new DataFrame with the predicted labels without subword embeddings\n",
        "predict_data_df = pd.DataFrame(predict_data, columns=[\"Title\"])\n",
        "\n",
        "# Combine the original DataFrame with the predicted labels without subword embeddings\n",
        "predict_df_without_subword = pd.concat([predict_data_df, predict_labels_df_without_subword], axis=1)\n",
        "\n",
        "# Save the DataFrame to a CSV file\n",
        "predict_df_without_subword.to_csv('/content/drive/MyDrive/predict_lstm_without_subword.csv', index=False)\n",
        "\n"
      ],
      "metadata": {
        "colab": {
          "base_uri": "https://localhost:8080/"
        },
        "id": "GWUAtFkWbeMX",
        "outputId": "b08ca393-64d0-443e-8b82-ae498838de51"
      },
      "execution_count": 62,
      "outputs": [
        {
          "output_type": "stream",
          "name": "stdout",
          "text": [
            "32/32 [==============================] - 0s 8ms/step\n"
          ]
        }
      ]
    },
    {
      "cell_type": "code",
      "source": [
        "predict_df_without_subword"
      ],
      "metadata": {
        "colab": {
          "base_uri": "https://localhost:8080/",
          "height": 424
        },
        "id": "dK9baslX1Hyb",
        "outputId": "d189bdfa-ce2a-4699-98fe-189732ebd893"
      },
      "execution_count": 63,
      "outputs": [
        {
          "output_type": "execute_result",
          "data": {
            "text/plain": [
              "                                                   Title  toxic  severe_toxic  \\\n",
              "0      ill look also could get picture cross section ...      1             0   \n",
              "1                         svg issue quite welcome friend      1             0   \n",
              "2      tan wikipedias worker whatever tan go hell gro...      0             0   \n",
              "3      hmm doesnt seem mark top box could swear one d...      0             0   \n",
              "4      dubious claim claim russia invent lightning ro...      0             0   \n",
              "...                                                  ...    ...           ...   \n",
              "31910  agree problem holyroman keep remove bosniak hi...      1             0   \n",
              "31911  hey buddy haha like keep wikipedia nasty gram ...      0             0   \n",
              "31912  thank reply original comment certainly label a...      0             0   \n",
              "31913  cfm nomination u state subcategories categorym...      0             0   \n",
              "31914                 gay person earth boing say zebedee      0             0   \n",
              "\n",
              "       obscene  threat  insult  identity_hate  \n",
              "0            0       0       0              0  \n",
              "1            0       0       0              0  \n",
              "2            0       0       0              0  \n",
              "3            0       0       0              0  \n",
              "4            0       0       0              0  \n",
              "...        ...     ...     ...            ...  \n",
              "31910        0       0       0              0  \n",
              "31911        0       0       0              0  \n",
              "31912        0       0       0              0  \n",
              "31913        0       0       0              0  \n",
              "31914        0       0       0              0  \n",
              "\n",
              "[31915 rows x 7 columns]"
            ],
            "text/html": [
              "\n",
              "  <div id=\"df-c4fdf500-6d62-4c99-abf3-8e6fdca3d09b\">\n",
              "    <div class=\"colab-df-container\">\n",
              "      <div>\n",
              "<style scoped>\n",
              "    .dataframe tbody tr th:only-of-type {\n",
              "        vertical-align: middle;\n",
              "    }\n",
              "\n",
              "    .dataframe tbody tr th {\n",
              "        vertical-align: top;\n",
              "    }\n",
              "\n",
              "    .dataframe thead th {\n",
              "        text-align: right;\n",
              "    }\n",
              "</style>\n",
              "<table border=\"1\" class=\"dataframe\">\n",
              "  <thead>\n",
              "    <tr style=\"text-align: right;\">\n",
              "      <th></th>\n",
              "      <th>Title</th>\n",
              "      <th>toxic</th>\n",
              "      <th>severe_toxic</th>\n",
              "      <th>obscene</th>\n",
              "      <th>threat</th>\n",
              "      <th>insult</th>\n",
              "      <th>identity_hate</th>\n",
              "    </tr>\n",
              "  </thead>\n",
              "  <tbody>\n",
              "    <tr>\n",
              "      <th>0</th>\n",
              "      <td>ill look also could get picture cross section ...</td>\n",
              "      <td>1</td>\n",
              "      <td>0</td>\n",
              "      <td>0</td>\n",
              "      <td>0</td>\n",
              "      <td>0</td>\n",
              "      <td>0</td>\n",
              "    </tr>\n",
              "    <tr>\n",
              "      <th>1</th>\n",
              "      <td>svg issue quite welcome friend</td>\n",
              "      <td>1</td>\n",
              "      <td>0</td>\n",
              "      <td>0</td>\n",
              "      <td>0</td>\n",
              "      <td>0</td>\n",
              "      <td>0</td>\n",
              "    </tr>\n",
              "    <tr>\n",
              "      <th>2</th>\n",
              "      <td>tan wikipedias worker whatever tan go hell gro...</td>\n",
              "      <td>0</td>\n",
              "      <td>0</td>\n",
              "      <td>0</td>\n",
              "      <td>0</td>\n",
              "      <td>0</td>\n",
              "      <td>0</td>\n",
              "    </tr>\n",
              "    <tr>\n",
              "      <th>3</th>\n",
              "      <td>hmm doesnt seem mark top box could swear one d...</td>\n",
              "      <td>0</td>\n",
              "      <td>0</td>\n",
              "      <td>0</td>\n",
              "      <td>0</td>\n",
              "      <td>0</td>\n",
              "      <td>0</td>\n",
              "    </tr>\n",
              "    <tr>\n",
              "      <th>4</th>\n",
              "      <td>dubious claim claim russia invent lightning ro...</td>\n",
              "      <td>0</td>\n",
              "      <td>0</td>\n",
              "      <td>0</td>\n",
              "      <td>0</td>\n",
              "      <td>0</td>\n",
              "      <td>0</td>\n",
              "    </tr>\n",
              "    <tr>\n",
              "      <th>...</th>\n",
              "      <td>...</td>\n",
              "      <td>...</td>\n",
              "      <td>...</td>\n",
              "      <td>...</td>\n",
              "      <td>...</td>\n",
              "      <td>...</td>\n",
              "      <td>...</td>\n",
              "    </tr>\n",
              "    <tr>\n",
              "      <th>31910</th>\n",
              "      <td>agree problem holyroman keep remove bosniak hi...</td>\n",
              "      <td>1</td>\n",
              "      <td>0</td>\n",
              "      <td>0</td>\n",
              "      <td>0</td>\n",
              "      <td>0</td>\n",
              "      <td>0</td>\n",
              "    </tr>\n",
              "    <tr>\n",
              "      <th>31911</th>\n",
              "      <td>hey buddy haha like keep wikipedia nasty gram ...</td>\n",
              "      <td>0</td>\n",
              "      <td>0</td>\n",
              "      <td>0</td>\n",
              "      <td>0</td>\n",
              "      <td>0</td>\n",
              "      <td>0</td>\n",
              "    </tr>\n",
              "    <tr>\n",
              "      <th>31912</th>\n",
              "      <td>thank reply original comment certainly label a...</td>\n",
              "      <td>0</td>\n",
              "      <td>0</td>\n",
              "      <td>0</td>\n",
              "      <td>0</td>\n",
              "      <td>0</td>\n",
              "      <td>0</td>\n",
              "    </tr>\n",
              "    <tr>\n",
              "      <th>31913</th>\n",
              "      <td>cfm nomination u state subcategories categorym...</td>\n",
              "      <td>0</td>\n",
              "      <td>0</td>\n",
              "      <td>0</td>\n",
              "      <td>0</td>\n",
              "      <td>0</td>\n",
              "      <td>0</td>\n",
              "    </tr>\n",
              "    <tr>\n",
              "      <th>31914</th>\n",
              "      <td>gay person earth boing say zebedee</td>\n",
              "      <td>0</td>\n",
              "      <td>0</td>\n",
              "      <td>0</td>\n",
              "      <td>0</td>\n",
              "      <td>0</td>\n",
              "      <td>0</td>\n",
              "    </tr>\n",
              "  </tbody>\n",
              "</table>\n",
              "<p>31915 rows × 7 columns</p>\n",
              "</div>\n",
              "      <button class=\"colab-df-convert\" onclick=\"convertToInteractive('df-c4fdf500-6d62-4c99-abf3-8e6fdca3d09b')\"\n",
              "              title=\"Convert this dataframe to an interactive table.\"\n",
              "              style=\"display:none;\">\n",
              "        \n",
              "  <svg xmlns=\"http://www.w3.org/2000/svg\" height=\"24px\"viewBox=\"0 0 24 24\"\n",
              "       width=\"24px\">\n",
              "    <path d=\"M0 0h24v24H0V0z\" fill=\"none\"/>\n",
              "    <path d=\"M18.56 5.44l.94 2.06.94-2.06 2.06-.94-2.06-.94-.94-2.06-.94 2.06-2.06.94zm-11 1L8.5 8.5l.94-2.06 2.06-.94-2.06-.94L8.5 2.5l-.94 2.06-2.06.94zm10 10l.94 2.06.94-2.06 2.06-.94-2.06-.94-.94-2.06-.94 2.06-2.06.94z\"/><path d=\"M17.41 7.96l-1.37-1.37c-.4-.4-.92-.59-1.43-.59-.52 0-1.04.2-1.43.59L10.3 9.45l-7.72 7.72c-.78.78-.78 2.05 0 2.83L4 21.41c.39.39.9.59 1.41.59.51 0 1.02-.2 1.41-.59l7.78-7.78 2.81-2.81c.8-.78.8-2.07 0-2.86zM5.41 20L4 18.59l7.72-7.72 1.47 1.35L5.41 20z\"/>\n",
              "  </svg>\n",
              "      </button>\n",
              "      \n",
              "  <style>\n",
              "    .colab-df-container {\n",
              "      display:flex;\n",
              "      flex-wrap:wrap;\n",
              "      gap: 12px;\n",
              "    }\n",
              "\n",
              "    .colab-df-convert {\n",
              "      background-color: #E8F0FE;\n",
              "      border: none;\n",
              "      border-radius: 50%;\n",
              "      cursor: pointer;\n",
              "      display: none;\n",
              "      fill: #1967D2;\n",
              "      height: 32px;\n",
              "      padding: 0 0 0 0;\n",
              "      width: 32px;\n",
              "    }\n",
              "\n",
              "    .colab-df-convert:hover {\n",
              "      background-color: #E2EBFA;\n",
              "      box-shadow: 0px 1px 2px rgba(60, 64, 67, 0.3), 0px 1px 3px 1px rgba(60, 64, 67, 0.15);\n",
              "      fill: #174EA6;\n",
              "    }\n",
              "\n",
              "    [theme=dark] .colab-df-convert {\n",
              "      background-color: #3B4455;\n",
              "      fill: #D2E3FC;\n",
              "    }\n",
              "\n",
              "    [theme=dark] .colab-df-convert:hover {\n",
              "      background-color: #434B5C;\n",
              "      box-shadow: 0px 1px 3px 1px rgba(0, 0, 0, 0.15);\n",
              "      filter: drop-shadow(0px 1px 2px rgba(0, 0, 0, 0.3));\n",
              "      fill: #FFFFFF;\n",
              "    }\n",
              "  </style>\n",
              "\n",
              "      <script>\n",
              "        const buttonEl =\n",
              "          document.querySelector('#df-c4fdf500-6d62-4c99-abf3-8e6fdca3d09b button.colab-df-convert');\n",
              "        buttonEl.style.display =\n",
              "          google.colab.kernel.accessAllowed ? 'block' : 'none';\n",
              "\n",
              "        async function convertToInteractive(key) {\n",
              "          const element = document.querySelector('#df-c4fdf500-6d62-4c99-abf3-8e6fdca3d09b');\n",
              "          const dataTable =\n",
              "            await google.colab.kernel.invokeFunction('convertToInteractive',\n",
              "                                                     [key], {});\n",
              "          if (!dataTable) return;\n",
              "\n",
              "          const docLinkHtml = 'Like what you see? Visit the ' +\n",
              "            '<a target=\"_blank\" href=https://colab.research.google.com/notebooks/data_table.ipynb>data table notebook</a>'\n",
              "            + ' to learn more about interactive tables.';\n",
              "          element.innerHTML = '';\n",
              "          dataTable['output_type'] = 'display_data';\n",
              "          await google.colab.output.renderOutput(dataTable, element);\n",
              "          const docLink = document.createElement('div');\n",
              "          docLink.innerHTML = docLinkHtml;\n",
              "          element.appendChild(docLink);\n",
              "        }\n",
              "      </script>\n",
              "    </div>\n",
              "  </div>\n",
              "  "
            ]
          },
          "metadata": {},
          "execution_count": 63
        }
      ]
    },
    {
      "cell_type": "code",
      "source": [
        "from sklearn.metrics import accuracy_score, f1_score, hamming_loss\n",
        "import numpy as np\n",
        "\n",
        "# Assuming you have the true labels for the test data\n",
        "y_test_true = test[y_list].values\n",
        "\n",
        "# Apply threshold to convert to binary values\n",
        "y_test_true = np.where(y_test_true >= threshold, 1, 0)\n",
        "\n",
        "# Calculate accuracy and F1 score for the model without subword embeddings\n",
        "accuracy_without_subword = accuracy_score(y_test_true, y_test_without_subword)*100\n",
        "f1_score_without_subword = f1_score(y_test_true, y_test_without_subword, average='micro')*100\n",
        "\n",
        "# Print accuracy and F1 score\n",
        "print(\"Accuracy (without subword embeddings):\", accuracy_without_subword)\n",
        "print(\"F1 Score (without subword embeddings):\", f1_score_without_subword)\n"
      ],
      "metadata": {
        "colab": {
          "base_uri": "https://localhost:8080/"
        },
        "id": "lgKt9QsrbhgW",
        "outputId": "c54aefa4-ae6d-4a4d-e703-3c5925a6527e"
      },
      "execution_count": 64,
      "outputs": [
        {
          "output_type": "stream",
          "name": "stdout",
          "text": [
            "Accuracy (without subword embeddings): 75.14021619927934\n",
            "F1 Score (without subword embeddings): 17.110820981491432\n"
          ]
        }
      ]
    }
  ],
  "metadata": {
    "kernelspec": {
      "name": "python3",
      "display_name": "Python 3"
    },
    "language_info": {
      "name": "python",
      "version": "3.7.6",
      "mimetype": "text/x-python",
      "codemirror_mode": {
        "name": "ipython",
        "version": 3
      },
      "pygments_lexer": "ipython3",
      "nbconvert_exporter": "python",
      "file_extension": ".py"
    },
    "colab": {
      "provenance": [],
      "gpuType": "T4",
      "include_colab_link": true
    },
    "accelerator": "GPU"
  },
  "nbformat": 4,
  "nbformat_minor": 0
}