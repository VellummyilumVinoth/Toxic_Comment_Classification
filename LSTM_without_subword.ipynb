{
  "cells": [
    {
      "cell_type": "markdown",
      "metadata": {
        "id": "view-in-github",
        "colab_type": "text"
      },
      "source": [
        "<a href=\"https://colab.research.google.com/github/VellummyilumVinoth/Toxic_Comment_Classification/blob/main/LSTM_without_subword.ipynb\" target=\"_parent\"><img src=\"https://colab.research.google.com/assets/colab-badge.svg\" alt=\"Open In Colab\"/></a>"
      ]
    },
    {
      "cell_type": "code",
      "source": [
        "from google.colab import drive\n",
        "drive.mount('/content/drive')"
      ],
      "metadata": {
        "colab": {
          "base_uri": "https://localhost:8080/"
        },
        "id": "G-4gH-PoRe6W",
        "outputId": "29a63099-da59-4c62-c478-8bf7931c06ea"
      },
      "execution_count": 1,
      "outputs": [
        {
          "output_type": "stream",
          "name": "stdout",
          "text": [
            "Mounted at /content/drive\n"
          ]
        }
      ]
    },
    {
      "cell_type": "code",
      "source": [
        "from keras.preprocessing.text import Tokenizer\n",
        "from tensorflow.keras.preprocessing.sequence import pad_sequences\n",
        "from keras.layers import Dense, Input, LSTM, Dropout\n",
        "from keras.layers import Bidirectional, GlobalMaxPool1D\n",
        "from keras.models import Model\n",
        "from keras.callbacks import EarlyStopping\n",
        "import pandas as pd"
      ],
      "metadata": {
        "id": "pL97-0Jqg1cR"
      },
      "execution_count": 2,
      "outputs": []
    },
    {
      "metadata": {
        "_uuid": "d629ff2d2480ee46fbb7e2d37f6b5fab8052498a",
        "_cell_guid": "79c7e3d0-c299-4dcb-8224-4455121ee9b0",
        "trusted": true,
        "id": "q6X0x_dCMsC_"
      },
      "cell_type": "code",
      "source": [
        "# Load and preprocess the data\n",
        "dataset = pd.read_csv('/content/drive/MyDrive/Dats/Kaggle/train.csv')\n",
        "\n",
        "from sklearn.model_selection import train_test_split\n",
        "\n",
        "dataset, test = train_test_split(dataset, test_size=0.2)\n"
      ],
      "execution_count": 3,
      "outputs": []
    },
    {
      "metadata": {
        "trusted": true,
        "colab": {
          "base_uri": "https://localhost:8080/"
        },
        "id": "S6aXeOvdMsDA",
        "outputId": "5ce32c3e-e65d-4a66-8267-876f3ed62a53"
      },
      "cell_type": "code",
      "source": [
        "dataset.isnull().sum()"
      ],
      "execution_count": 4,
      "outputs": [
        {
          "output_type": "execute_result",
          "data": {
            "text/plain": [
              "id               0\n",
              "comment_text     0\n",
              "toxic            0\n",
              "severe_toxic     0\n",
              "obscene          0\n",
              "threat           0\n",
              "insult           0\n",
              "identity_hate    0\n",
              "dtype: int64"
            ]
          },
          "metadata": {},
          "execution_count": 4
        }
      ]
    },
    {
      "metadata": {
        "trusted": true,
        "colab": {
          "base_uri": "https://localhost:8080/"
        },
        "id": "IopHA_L-MsDA",
        "outputId": "e23e5fc0-3258-480d-b6e9-88799604dbe5"
      },
      "cell_type": "code",
      "source": [
        "sentiment = dataset['comment_text'].values\n",
        "y_list = [\"toxic\",\"severe_toxic\", \"obscene\", \"threat\", \"insult\", \"identity_hate\"]\n",
        "y = dataset[y_list].values\n",
        "sentiment"
      ],
      "execution_count": 5,
      "outputs": [
        {
          "output_type": "execute_result",
          "data": {
            "text/plain": [
              "array(['I do not understand! \\n\\nWhat is it that is going on here? I am trying to collaborate in writing the story! Who is this any why would it be? Help!',\n",
              "       '\"\\nWell our fine friend Fountains has finally managed to write something more or less NPOV. Round 19:00 Wikipedia time, matter of fact. He was being a massive jerk to other editors, and there does come a time when you have to say \"\"stop the bullshit now.\"\" People had been asking nicely for years. I think my work here may be done, but I\\'ll check in now and again to make sure he\\'s not turning the page back into edisontechcenter.com.  \"',\n",
              "       \"BC, AD, BCE, CE, AH, etc \\nThere has been lots of debate on what date format to use, and Wikipedia has been unable to agree on a standard. Because of this, new articles can use whatever date format is appropriate, but they ask that no one go through and change a bunch of articles. \\n\\nAbout Arabic -> English translators, I've wanted one of those for a long time. Apparently there isn't a good one on the Internet, sadly. –  (talk) 12:37, September 7, 2005 (UTC)\",\n",
              "       ...,\n",
              "       \"Also, how does Josephus represent a Christian POV?  Ems appears to be an Orthodox Jew, and I'd imagine that his problem with the article is that it relies on Josephus rather than rabbinic traditions about Herod.  A section in the article about rabbinic traditions is fine, but every history I've ever seen of the period relies mostly on Josephus, and assumes the (much later) rabbinic materials to be of limited value for determining the actual history of the period.\",\n",
              "       'Ah i see who it is is you matt57, I think we crossed lines before, sorry, but I would prefer it if you specified your compalint, who you are, and what authority you have to remove my comments.86.150.147.133',\n",
              "       \"[Chorus: DMX - repeat 2X]\\nWhere the hood, where the hood, where the hood at?\\nHave that nigga in the cut, where the wood at?\\nOh, them niggaz actin up?!? Where the wolves at?\\nYou better BUST THAT if you gon pull that\\n\\n[DMX]\\nMan, cats don't know what it's gonna be\\nmessin with a dog like me, D-to-the-M-to-the-X\\nLast I heard, y'all cowards was havin sex, with the same sex\\nI show no love......\\nEmpty out, reloaded and throw more slugs\\nHow you gonna explain born in a man?\\nEven if we squashed the beef, I ain't touchin ya hand\\nI don't mess with chumps, for those to been to jail\\nThat's the cat with the Kool-Aid on his lips and pumps\\nI can't deal with brother that think they broads\\nOnly know how to be one way, that's the dog\\nI know how to get down, know how to bite, bite\\nBark very little, but I know how to fight, fight\\nI know how to chase a cat up in the tree\\nman, i'll give you cowards the business for messin wot me\\nay you crazy!\\n\\n[Chorus x2]\\nWhere the hood, where the hood, where the hood at?\\nHave that nigga in the cut, where the wood at?\\nOh, them niggaz actin up?!? Where the wolves at?\\nYou better BUST THAT if you gon pull that\\n\\n[DMX]\\nOnce a song, I come though, guns is drawn\\nBLAM BLAM, lungs are gone, sons will mourn\\nFrom dusk till dawn, nighttime belongs to the dog\\nOn the street passed midnight, look for 'em in the morgue\\nDon't play with these cats cuz I ain't got nothin to say to these cats\\nFor the mothers that really do love em, please pray for these cats\\nCuz I know they all is hardheaded but I ain't got the patience\\nDon't want me havin no patience turn into more patience\\nMore trips to I.C.U cuz I see you\\nTryna get away with things a real wouldn't do\\nWhere my dogs at? (right here) See them niggaz? (right there)\\nget em boy! (right there) That's how we do... (aiight then)\\nThis is for my dogs, this is for my dogs\\nyo, where we at baby?!? (creepin through the fog)\\nFrom then till now, don't ask me how\\nKnow that we gon roll like them chaps and hit every block on the job\\n\\n[Chorus x2]\\nWhere the hood, where the hood, where the hood at?\\nHave that nigga in the cut, where the wood at?\\nOh, them niggaz actin up?!? Where the wolves at?\\nYou better BUST THAT if you gon pull that\\n\\nwhere the hood at?!\"],\n",
              "      dtype=object)"
            ]
          },
          "metadata": {},
          "execution_count": 5
        }
      ]
    },
    {
      "cell_type": "code",
      "source": [
        "predict_data = test['comment_text'].values"
      ],
      "metadata": {
        "id": "fds6LIRbhSZ-"
      },
      "execution_count": 6,
      "outputs": []
    },
    {
      "metadata": {
        "trusted": true,
        "id": "ItANI__xMsDB"
      },
      "cell_type": "code",
      "source": [
        "# Tokenize the data\n",
        "tokenizer = Tokenizer(num_words=20000)\n",
        "tokenizer.fit_on_texts(list(sentiment))\n",
        "seq = tokenizer.texts_to_sequences(sentiment)\n",
        "pad = pad_sequences(seq, maxlen=100)\n",
        "test_seq = tokenizer.texts_to_sequences(predict_data)\n",
        "test_pad = pad_sequences(test_seq, maxlen=100)"
      ],
      "execution_count": 7,
      "outputs": []
    },
    {
      "metadata": {
        "trusted": true,
        "colab": {
          "base_uri": "https://localhost:8080/"
        },
        "id": "ikMbPizrMsDC",
        "outputId": "b7d4ad74-e3e7-498a-f532-fcfd22df2904"
      },
      "cell_type": "code",
      "source": [
        "from keras.layers import Reshape\n",
        "\n",
        "# Define the model architecture without subword embeddings\n",
        "def model_without_subword_embedding():\n",
        "    inputs = Input(shape=(100,))\n",
        "    x = Reshape((100, 1))(inputs)\n",
        "    x = LSTM(50)(x)\n",
        "    x = Dropout(0.1)(x)\n",
        "    x = Dense(50, activation=\"relu\")(x)\n",
        "    x = Dropout(0.1)(x)\n",
        "    outputs = Dense(6, activation=\"sigmoid\")(x)\n",
        "    model = Model(inputs=inputs, outputs=outputs)\n",
        "    model.compile(loss='binary_crossentropy', optimizer='adam', metrics=['accuracy'])\n",
        "    return model\n",
        "\n",
        "model = model_without_subword_embedding()\n",
        "print(model.summary())"
      ],
      "execution_count": 8,
      "outputs": [
        {
          "output_type": "stream",
          "name": "stdout",
          "text": [
            "Model: \"model\"\n",
            "_________________________________________________________________\n",
            " Layer (type)                Output Shape              Param #   \n",
            "=================================================================\n",
            " input_1 (InputLayer)        [(None, 100)]             0         \n",
            "                                                                 \n",
            " reshape (Reshape)           (None, 100, 1)            0         \n",
            "                                                                 \n",
            " lstm (LSTM)                 (None, 50)                10400     \n",
            "                                                                 \n",
            " dropout (Dropout)           (None, 50)                0         \n",
            "                                                                 \n",
            " dense (Dense)               (None, 50)                2550      \n",
            "                                                                 \n",
            " dropout_1 (Dropout)         (None, 50)                0         \n",
            "                                                                 \n",
            " dense_1 (Dense)             (None, 6)                 306       \n",
            "                                                                 \n",
            "=================================================================\n",
            "Total params: 13,256\n",
            "Trainable params: 13,256\n",
            "Non-trainable params: 0\n",
            "_________________________________________________________________\n",
            "None\n"
          ]
        }
      ]
    },
    {
      "cell_type": "code",
      "source": [
        "# Train the model without subword embeddings\n",
        "model_without_subword = model_without_subword_embedding()\n",
        "early = EarlyStopping(monitor=\"val_loss\", mode=\"min\", patience=20)\n",
        "model_without_subword.fit(pad, y, batch_size=32, epochs=2, validation_split=0.1, callbacks=[early])\n"
      ],
      "metadata": {
        "id": "iuOhr-Z3hmeD",
        "colab": {
          "base_uri": "https://localhost:8080/"
        },
        "outputId": "856f965a-7308-4979-c04a-3b1453953724"
      },
      "execution_count": 9,
      "outputs": [
        {
          "output_type": "stream",
          "name": "stdout",
          "text": [
            "Epoch 1/2\n",
            "3591/3591 [==============================] - 36s 8ms/step - loss: 0.1359 - accuracy: 0.8998 - val_loss: 0.1306 - val_accuracy: 0.9936\n",
            "Epoch 2/2\n",
            "3591/3591 [==============================] - 30s 8ms/step - loss: 0.1262 - accuracy: 0.9911 - val_loss: 0.1254 - val_accuracy: 0.9937\n"
          ]
        },
        {
          "output_type": "execute_result",
          "data": {
            "text/plain": [
              "<keras.callbacks.History at 0x7fa3f8d43b50>"
            ]
          },
          "metadata": {},
          "execution_count": 9
        }
      ]
    },
    {
      "cell_type": "code",
      "source": [
        "model.save('/content/drive/MyDrive/LSTM_without_subword')"
      ],
      "metadata": {
        "colab": {
          "base_uri": "https://localhost:8080/"
        },
        "id": "aKLp0S02UD3r",
        "outputId": "343bdb6d-6372-49b2-a0c6-11f8cf601d80"
      },
      "execution_count": 10,
      "outputs": [
        {
          "output_type": "stream",
          "name": "stderr",
          "text": [
            "WARNING:absl:Found untraced functions such as _update_step_xla, lstm_cell_layer_call_fn, lstm_cell_layer_call_and_return_conditional_losses while saving (showing 3 of 3). These functions will not be directly callable after loading.\n"
          ]
        }
      ]
    },
    {
      "cell_type": "code",
      "source": [
        "# Make predictions on the test data without subword embeddings\n",
        "y_test_without_subword = model_without_subword.predict([test_pad], batch_size=1024, verbose=1)\n",
        "\n",
        "# Apply threshold and convert to 0 or 1\n",
        "threshold = 0.5  # Adjust this threshold as needed\n",
        "y_test_without_subword[y_test_without_subword >= threshold] = 1\n",
        "y_test_without_subword[y_test_without_subword < threshold] = 0\n",
        "y_test_without_subword = y_test_without_subword.astype(int)\n",
        "\n",
        "# Create a new DataFrame with the predicted labels without subword embeddings\n",
        "predict_labels_df_without_subword = pd.DataFrame(y_test_without_subword, columns=y_list)\n",
        "\n",
        "# Create a new DataFrame with the predicted labels without subword embeddings\n",
        "predict_data_df = pd.DataFrame(predict_data, columns=[\"Title\"])\n",
        "\n",
        "# Combine the original DataFrame with the predicted labels without subword embeddings\n",
        "predict_df_without_subword = pd.concat([predict_data_df, predict_labels_df_without_subword], axis=1)\n",
        "\n",
        "# Save the DataFrame to a CSV file\n",
        "predict_df_without_subword.to_csv('/content/drive/MyDrive/predict_lstm_without_subword.csv', index=False)\n",
        "\n"
      ],
      "metadata": {
        "colab": {
          "base_uri": "https://localhost:8080/"
        },
        "id": "GWUAtFkWbeMX",
        "outputId": "77bbfab3-5510-4b69-d188-4a8cd01d3bfc"
      },
      "execution_count": 11,
      "outputs": [
        {
          "output_type": "stream",
          "name": "stdout",
          "text": [
            "32/32 [==============================] - 1s 8ms/step\n"
          ]
        }
      ]
    },
    {
      "cell_type": "code",
      "source": [
        "predict_df_without_subword"
      ],
      "metadata": {
        "colab": {
          "base_uri": "https://localhost:8080/",
          "height": 424
        },
        "id": "dK9baslX1Hyb",
        "outputId": "8eab5ae7-9aa9-4bc6-a6cc-04486076009e"
      },
      "execution_count": 12,
      "outputs": [
        {
          "output_type": "execute_result",
          "data": {
            "text/plain": [
              "                                                   Title  toxic  severe_toxic  \\\n",
              "0      \"\\n\\nThanks Severa. Due largely to your patien...      0             0   \n",
              "1      I agree with r-b j, they actually believe them...      0             0   \n",
              "2      I am being slandered and defamed by Delicious ...      0             0   \n",
              "3      \"\\nYou haven't been paying attention. I don't ...      0             0   \n",
              "4      The laws given on this page are false.\\n\\nRayl...      0             0   \n",
              "...                                                  ...    ...           ...   \n",
              "31910  \"::::::::::::I would suppose Kumioko does not ...      0             0   \n",
              "31911  LoL Breein1007 you little troll.  Tell me, wit...      0             0   \n",
              "31912  Me to, it's so sad though.\\n\\nIt would be nice...      0             0   \n",
              "31913                   I'm taking that as a compliment.      0             0   \n",
              "31914  I think autistics like you can be an asset in ...      0             0   \n",
              "\n",
              "       obscene  threat  insult  identity_hate  \n",
              "0            0       0       0              0  \n",
              "1            0       0       0              0  \n",
              "2            0       0       0              0  \n",
              "3            0       0       0              0  \n",
              "4            0       0       0              0  \n",
              "...        ...     ...     ...            ...  \n",
              "31910        0       0       0              0  \n",
              "31911        0       0       0              0  \n",
              "31912        0       0       0              0  \n",
              "31913        0       0       0              0  \n",
              "31914        0       0       0              0  \n",
              "\n",
              "[31915 rows x 7 columns]"
            ],
            "text/html": [
              "\n",
              "  <div id=\"df-162eeb7f-2b97-4ffa-ad84-a488de7e3eb4\">\n",
              "    <div class=\"colab-df-container\">\n",
              "      <div>\n",
              "<style scoped>\n",
              "    .dataframe tbody tr th:only-of-type {\n",
              "        vertical-align: middle;\n",
              "    }\n",
              "\n",
              "    .dataframe tbody tr th {\n",
              "        vertical-align: top;\n",
              "    }\n",
              "\n",
              "    .dataframe thead th {\n",
              "        text-align: right;\n",
              "    }\n",
              "</style>\n",
              "<table border=\"1\" class=\"dataframe\">\n",
              "  <thead>\n",
              "    <tr style=\"text-align: right;\">\n",
              "      <th></th>\n",
              "      <th>Title</th>\n",
              "      <th>toxic</th>\n",
              "      <th>severe_toxic</th>\n",
              "      <th>obscene</th>\n",
              "      <th>threat</th>\n",
              "      <th>insult</th>\n",
              "      <th>identity_hate</th>\n",
              "    </tr>\n",
              "  </thead>\n",
              "  <tbody>\n",
              "    <tr>\n",
              "      <th>0</th>\n",
              "      <td>\"\\n\\nThanks Severa. Due largely to your patien...</td>\n",
              "      <td>0</td>\n",
              "      <td>0</td>\n",
              "      <td>0</td>\n",
              "      <td>0</td>\n",
              "      <td>0</td>\n",
              "      <td>0</td>\n",
              "    </tr>\n",
              "    <tr>\n",
              "      <th>1</th>\n",
              "      <td>I agree with r-b j, they actually believe them...</td>\n",
              "      <td>0</td>\n",
              "      <td>0</td>\n",
              "      <td>0</td>\n",
              "      <td>0</td>\n",
              "      <td>0</td>\n",
              "      <td>0</td>\n",
              "    </tr>\n",
              "    <tr>\n",
              "      <th>2</th>\n",
              "      <td>I am being slandered and defamed by Delicious ...</td>\n",
              "      <td>0</td>\n",
              "      <td>0</td>\n",
              "      <td>0</td>\n",
              "      <td>0</td>\n",
              "      <td>0</td>\n",
              "      <td>0</td>\n",
              "    </tr>\n",
              "    <tr>\n",
              "      <th>3</th>\n",
              "      <td>\"\\nYou haven't been paying attention. I don't ...</td>\n",
              "      <td>0</td>\n",
              "      <td>0</td>\n",
              "      <td>0</td>\n",
              "      <td>0</td>\n",
              "      <td>0</td>\n",
              "      <td>0</td>\n",
              "    </tr>\n",
              "    <tr>\n",
              "      <th>4</th>\n",
              "      <td>The laws given on this page are false.\\n\\nRayl...</td>\n",
              "      <td>0</td>\n",
              "      <td>0</td>\n",
              "      <td>0</td>\n",
              "      <td>0</td>\n",
              "      <td>0</td>\n",
              "      <td>0</td>\n",
              "    </tr>\n",
              "    <tr>\n",
              "      <th>...</th>\n",
              "      <td>...</td>\n",
              "      <td>...</td>\n",
              "      <td>...</td>\n",
              "      <td>...</td>\n",
              "      <td>...</td>\n",
              "      <td>...</td>\n",
              "      <td>...</td>\n",
              "    </tr>\n",
              "    <tr>\n",
              "      <th>31910</th>\n",
              "      <td>\"::::::::::::I would suppose Kumioko does not ...</td>\n",
              "      <td>0</td>\n",
              "      <td>0</td>\n",
              "      <td>0</td>\n",
              "      <td>0</td>\n",
              "      <td>0</td>\n",
              "      <td>0</td>\n",
              "    </tr>\n",
              "    <tr>\n",
              "      <th>31911</th>\n",
              "      <td>LoL Breein1007 you little troll.  Tell me, wit...</td>\n",
              "      <td>0</td>\n",
              "      <td>0</td>\n",
              "      <td>0</td>\n",
              "      <td>0</td>\n",
              "      <td>0</td>\n",
              "      <td>0</td>\n",
              "    </tr>\n",
              "    <tr>\n",
              "      <th>31912</th>\n",
              "      <td>Me to, it's so sad though.\\n\\nIt would be nice...</td>\n",
              "      <td>0</td>\n",
              "      <td>0</td>\n",
              "      <td>0</td>\n",
              "      <td>0</td>\n",
              "      <td>0</td>\n",
              "      <td>0</td>\n",
              "    </tr>\n",
              "    <tr>\n",
              "      <th>31913</th>\n",
              "      <td>I'm taking that as a compliment.</td>\n",
              "      <td>0</td>\n",
              "      <td>0</td>\n",
              "      <td>0</td>\n",
              "      <td>0</td>\n",
              "      <td>0</td>\n",
              "      <td>0</td>\n",
              "    </tr>\n",
              "    <tr>\n",
              "      <th>31914</th>\n",
              "      <td>I think autistics like you can be an asset in ...</td>\n",
              "      <td>0</td>\n",
              "      <td>0</td>\n",
              "      <td>0</td>\n",
              "      <td>0</td>\n",
              "      <td>0</td>\n",
              "      <td>0</td>\n",
              "    </tr>\n",
              "  </tbody>\n",
              "</table>\n",
              "<p>31915 rows × 7 columns</p>\n",
              "</div>\n",
              "      <button class=\"colab-df-convert\" onclick=\"convertToInteractive('df-162eeb7f-2b97-4ffa-ad84-a488de7e3eb4')\"\n",
              "              title=\"Convert this dataframe to an interactive table.\"\n",
              "              style=\"display:none;\">\n",
              "        \n",
              "  <svg xmlns=\"http://www.w3.org/2000/svg\" height=\"24px\"viewBox=\"0 0 24 24\"\n",
              "       width=\"24px\">\n",
              "    <path d=\"M0 0h24v24H0V0z\" fill=\"none\"/>\n",
              "    <path d=\"M18.56 5.44l.94 2.06.94-2.06 2.06-.94-2.06-.94-.94-2.06-.94 2.06-2.06.94zm-11 1L8.5 8.5l.94-2.06 2.06-.94-2.06-.94L8.5 2.5l-.94 2.06-2.06.94zm10 10l.94 2.06.94-2.06 2.06-.94-2.06-.94-.94-2.06-.94 2.06-2.06.94z\"/><path d=\"M17.41 7.96l-1.37-1.37c-.4-.4-.92-.59-1.43-.59-.52 0-1.04.2-1.43.59L10.3 9.45l-7.72 7.72c-.78.78-.78 2.05 0 2.83L4 21.41c.39.39.9.59 1.41.59.51 0 1.02-.2 1.41-.59l7.78-7.78 2.81-2.81c.8-.78.8-2.07 0-2.86zM5.41 20L4 18.59l7.72-7.72 1.47 1.35L5.41 20z\"/>\n",
              "  </svg>\n",
              "      </button>\n",
              "      \n",
              "  <style>\n",
              "    .colab-df-container {\n",
              "      display:flex;\n",
              "      flex-wrap:wrap;\n",
              "      gap: 12px;\n",
              "    }\n",
              "\n",
              "    .colab-df-convert {\n",
              "      background-color: #E8F0FE;\n",
              "      border: none;\n",
              "      border-radius: 50%;\n",
              "      cursor: pointer;\n",
              "      display: none;\n",
              "      fill: #1967D2;\n",
              "      height: 32px;\n",
              "      padding: 0 0 0 0;\n",
              "      width: 32px;\n",
              "    }\n",
              "\n",
              "    .colab-df-convert:hover {\n",
              "      background-color: #E2EBFA;\n",
              "      box-shadow: 0px 1px 2px rgba(60, 64, 67, 0.3), 0px 1px 3px 1px rgba(60, 64, 67, 0.15);\n",
              "      fill: #174EA6;\n",
              "    }\n",
              "\n",
              "    [theme=dark] .colab-df-convert {\n",
              "      background-color: #3B4455;\n",
              "      fill: #D2E3FC;\n",
              "    }\n",
              "\n",
              "    [theme=dark] .colab-df-convert:hover {\n",
              "      background-color: #434B5C;\n",
              "      box-shadow: 0px 1px 3px 1px rgba(0, 0, 0, 0.15);\n",
              "      filter: drop-shadow(0px 1px 2px rgba(0, 0, 0, 0.3));\n",
              "      fill: #FFFFFF;\n",
              "    }\n",
              "  </style>\n",
              "\n",
              "      <script>\n",
              "        const buttonEl =\n",
              "          document.querySelector('#df-162eeb7f-2b97-4ffa-ad84-a488de7e3eb4 button.colab-df-convert');\n",
              "        buttonEl.style.display =\n",
              "          google.colab.kernel.accessAllowed ? 'block' : 'none';\n",
              "\n",
              "        async function convertToInteractive(key) {\n",
              "          const element = document.querySelector('#df-162eeb7f-2b97-4ffa-ad84-a488de7e3eb4');\n",
              "          const dataTable =\n",
              "            await google.colab.kernel.invokeFunction('convertToInteractive',\n",
              "                                                     [key], {});\n",
              "          if (!dataTable) return;\n",
              "\n",
              "          const docLinkHtml = 'Like what you see? Visit the ' +\n",
              "            '<a target=\"_blank\" href=https://colab.research.google.com/notebooks/data_table.ipynb>data table notebook</a>'\n",
              "            + ' to learn more about interactive tables.';\n",
              "          element.innerHTML = '';\n",
              "          dataTable['output_type'] = 'display_data';\n",
              "          await google.colab.output.renderOutput(dataTable, element);\n",
              "          const docLink = document.createElement('div');\n",
              "          docLink.innerHTML = docLinkHtml;\n",
              "          element.appendChild(docLink);\n",
              "        }\n",
              "      </script>\n",
              "    </div>\n",
              "  </div>\n",
              "  "
            ]
          },
          "metadata": {},
          "execution_count": 12
        }
      ]
    },
    {
      "cell_type": "code",
      "source": [
        "from sklearn.metrics import accuracy_score, f1_score, hamming_loss\n",
        "import numpy as np\n",
        "\n",
        "# Assuming you have the true labels for the test data\n",
        "y_test_true = test[y_list].values\n",
        "\n",
        "# Apply threshold to convert to binary values\n",
        "y_test_true = np.where(y_test_true >= threshold, 1, 0)\n",
        "\n",
        "# Calculate accuracy and F1 score for the model without subword embeddings\n",
        "accuracy_without_subword = accuracy_score(y_test_true, y_test_without_subword)*100\n",
        "f1_score_without_subword = f1_score(y_test_true, y_test_without_subword, average='micro')*100\n",
        "\n",
        "# Print accuracy and F1 score\n",
        "print(\"Accuracy (without subword embeddings):\", accuracy_without_subword)\n",
        "print(\"F1 Score (without subword embeddings):\", f1_score_without_subword)\n"
      ],
      "metadata": {
        "colab": {
          "base_uri": "https://localhost:8080/"
        },
        "id": "lgKt9QsrbhgW",
        "outputId": "d0fd991e-a304-4dca-da14-da61b38fd396"
      },
      "execution_count": 14,
      "outputs": [
        {
          "output_type": "stream",
          "name": "stdout",
          "text": [
            "Accuracy (without subword embeddings): 89.96083346388846\n",
            "F1 Score (without subword embeddings): 2.8899277518062045\n"
          ]
        }
      ]
    }
  ],
  "metadata": {
    "kernelspec": {
      "name": "python3",
      "display_name": "Python 3"
    },
    "language_info": {
      "name": "python",
      "version": "3.7.6",
      "mimetype": "text/x-python",
      "codemirror_mode": {
        "name": "ipython",
        "version": 3
      },
      "pygments_lexer": "ipython3",
      "nbconvert_exporter": "python",
      "file_extension": ".py"
    },
    "colab": {
      "provenance": [],
      "gpuType": "T4",
      "include_colab_link": true
    },
    "accelerator": "GPU"
  },
  "nbformat": 4,
  "nbformat_minor": 0
}